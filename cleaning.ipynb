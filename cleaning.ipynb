{
 "cells": [
  {
   "cell_type": "code",
   "execution_count": null,
   "metadata": {},
   "outputs": [],
   "source": []
  },
  {
   "cell_type": "code",
   "execution_count": 122,
   "metadata": {},
   "outputs": [],
   "source": [
    "import pandas as pd\n",
    "import numpy as np"
   ]
  },
  {
   "cell_type": "code",
   "execution_count": 123,
   "metadata": {},
   "outputs": [
    {
     "name": "stdout",
     "output_type": "stream",
     "text": [
      "                Timestamp  Age  Gender         Country state self_employed  \\\n",
      "0     2014-08-27 11:29:31   37  Female   United States    IL           NaN   \n",
      "1     2014-08-27 11:29:37   44       M   United States    IN           NaN   \n",
      "2     2014-08-27 11:29:44   32    Male          Canada   NaN           NaN   \n",
      "3     2014-08-27 11:29:46   31    Male  United Kingdom   NaN           NaN   \n",
      "4     2014-08-27 11:30:22   31    Male   United States    TX           NaN   \n",
      "...                   ...  ...     ...             ...   ...           ...   \n",
      "1254  2015-09-12 11:17:21   26    male  United Kingdom   NaN            No   \n",
      "1255  2015-09-26 01:07:35   32    Male   United States    IL            No   \n",
      "1256  2015-11-07 12:36:58   34    male   United States    CA            No   \n",
      "1257  2015-11-30 21:25:06   46       f   United States    NC            No   \n",
      "1258  2016-02-01 23:04:31   25    Male   United States    IL            No   \n",
      "\n",
      "     family_history treatment work_interfere    no_employees  ...  \\\n",
      "0                No       Yes          Often            6-25  ...   \n",
      "1                No        No         Rarely  More than 1000  ...   \n",
      "2                No        No         Rarely            6-25  ...   \n",
      "3               Yes       Yes          Often          26-100  ...   \n",
      "4                No        No          Never         100-500  ...   \n",
      "...             ...       ...            ...             ...  ...   \n",
      "1254             No       Yes            NaN          26-100  ...   \n",
      "1255            Yes       Yes          Often          26-100  ...   \n",
      "1256            Yes       Yes      Sometimes  More than 1000  ...   \n",
      "1257             No        No            NaN         100-500  ...   \n",
      "1258            Yes       Yes      Sometimes          26-100  ...   \n",
      "\n",
      "                   leave mental_health_consequence phys_health_consequence  \\\n",
      "0          Somewhat easy                        No                      No   \n",
      "1             Don't know                     Maybe                      No   \n",
      "2     Somewhat difficult                        No                      No   \n",
      "3     Somewhat difficult                       Yes                     Yes   \n",
      "4             Don't know                        No                      No   \n",
      "...                  ...                       ...                     ...   \n",
      "1254       Somewhat easy                        No                      No   \n",
      "1255  Somewhat difficult                        No                      No   \n",
      "1256  Somewhat difficult                       Yes                     Yes   \n",
      "1257          Don't know                       Yes                      No   \n",
      "1258          Don't know                     Maybe                      No   \n",
      "\n",
      "         coworkers    supervisor mental_health_interview  \\\n",
      "0     Some of them           Yes                      No   \n",
      "1               No            No                      No   \n",
      "2              Yes           Yes                     Yes   \n",
      "3     Some of them            No                   Maybe   \n",
      "4     Some of them           Yes                     Yes   \n",
      "...            ...           ...                     ...   \n",
      "1254  Some of them  Some of them                      No   \n",
      "1255  Some of them           Yes                      No   \n",
      "1256            No            No                      No   \n",
      "1257            No            No                      No   \n",
      "1258  Some of them            No                      No   \n",
      "\n",
      "     phys_health_interview mental_vs_physical obs_consequence comments  \n",
      "0                    Maybe                Yes              No      NaN  \n",
      "1                       No         Don't know              No      NaN  \n",
      "2                      Yes                 No              No      NaN  \n",
      "3                    Maybe                 No             Yes      NaN  \n",
      "4                      Yes         Don't know              No      NaN  \n",
      "...                    ...                ...             ...      ...  \n",
      "1254                    No         Don't know              No      NaN  \n",
      "1255                    No                Yes              No      NaN  \n",
      "1256                    No                 No              No      NaN  \n",
      "1257                    No                 No              No      NaN  \n",
      "1258                    No         Don't know              No      NaN  \n",
      "\n",
      "[1259 rows x 27 columns]\n"
     ]
    }
   ],
   "source": [
    "df = pd.read_csv(r'C:\\Users\\USER\\OneDrive\\Desktop\\xplore\\survey.csv')\n",
    "print(df)"
   ]
  },
  {
   "cell_type": "markdown",
   "metadata": {},
   "source": [
    "Age column has unrealistic values which are replaced by median Age"
   ]
  },
  {
   "cell_type": "code",
   "execution_count": 124,
   "metadata": {},
   "outputs": [
    {
     "name": "stdout",
     "output_type": "stream",
     "text": [
      "[         37          44          32          31          33          35\n",
      "          39          42          23          29          36          27\n",
      "          46          41          34          30          40          38\n",
      "          50          24          18          28          26          22\n",
      "          19          25          45          21         -29          43\n",
      "          56          60          54         329          55 99999999999\n",
      "          48          20          57          58          47          62\n",
      "          51          65          49       -1726           5          53\n",
      "          61           8          11          -1          72]\n"
     ]
    }
   ],
   "source": [
    "distinct_values = df['Age'].unique()\n",
    "print(distinct_values)"
   ]
  },
  {
   "cell_type": "code",
   "execution_count": 125,
   "metadata": {},
   "outputs": [
    {
     "name": "stdout",
     "output_type": "stream",
     "text": [
      "                Timestamp Age  Gender         Country state self_employed  \\\n",
      "0     2014-08-27 11:29:31  37  Female   United States    IL           NaN   \n",
      "1     2014-08-27 11:29:37  44       M   United States    IN           NaN   \n",
      "2     2014-08-27 11:29:44  32    Male          Canada   NaN           NaN   \n",
      "3     2014-08-27 11:29:46  31    Male  United Kingdom   NaN           NaN   \n",
      "4     2014-08-27 11:30:22  31    Male   United States    TX           NaN   \n",
      "...                   ...  ..     ...             ...   ...           ...   \n",
      "1254  2015-09-12 11:17:21  26    male  United Kingdom   NaN            No   \n",
      "1255  2015-09-26 01:07:35  32    Male   United States    IL            No   \n",
      "1256  2015-11-07 12:36:58  34    male   United States    CA            No   \n",
      "1257  2015-11-30 21:25:06  46       f   United States    NC            No   \n",
      "1258  2016-02-01 23:04:31  25    Male   United States    IL            No   \n",
      "\n",
      "     family_history treatment work_interfere    no_employees  ...  \\\n",
      "0                No       Yes          Often            6-25  ...   \n",
      "1                No        No         Rarely  More than 1000  ...   \n",
      "2                No        No         Rarely            6-25  ...   \n",
      "3               Yes       Yes          Often          26-100  ...   \n",
      "4                No        No          Never         100-500  ...   \n",
      "...             ...       ...            ...             ...  ...   \n",
      "1254             No       Yes            NaN          26-100  ...   \n",
      "1255            Yes       Yes          Often          26-100  ...   \n",
      "1256            Yes       Yes      Sometimes  More than 1000  ...   \n",
      "1257             No        No            NaN         100-500  ...   \n",
      "1258            Yes       Yes      Sometimes          26-100  ...   \n",
      "\n",
      "                   leave mental_health_consequence phys_health_consequence  \\\n",
      "0          Somewhat easy                        No                      No   \n",
      "1             Don't know                     Maybe                      No   \n",
      "2     Somewhat difficult                        No                      No   \n",
      "3     Somewhat difficult                       Yes                     Yes   \n",
      "4             Don't know                        No                      No   \n",
      "...                  ...                       ...                     ...   \n",
      "1254       Somewhat easy                        No                      No   \n",
      "1255  Somewhat difficult                        No                      No   \n",
      "1256  Somewhat difficult                       Yes                     Yes   \n",
      "1257          Don't know                       Yes                      No   \n",
      "1258          Don't know                     Maybe                      No   \n",
      "\n",
      "         coworkers    supervisor mental_health_interview  \\\n",
      "0     Some of them           Yes                      No   \n",
      "1               No            No                      No   \n",
      "2              Yes           Yes                     Yes   \n",
      "3     Some of them            No                   Maybe   \n",
      "4     Some of them           Yes                     Yes   \n",
      "...            ...           ...                     ...   \n",
      "1254  Some of them  Some of them                      No   \n",
      "1255  Some of them           Yes                      No   \n",
      "1256            No            No                      No   \n",
      "1257            No            No                      No   \n",
      "1258  Some of them            No                      No   \n",
      "\n",
      "     phys_health_interview mental_vs_physical obs_consequence comments  \n",
      "0                    Maybe                Yes              No      NaN  \n",
      "1                       No         Don't know              No      NaN  \n",
      "2                      Yes                 No              No      NaN  \n",
      "3                    Maybe                 No             Yes      NaN  \n",
      "4                      Yes         Don't know              No      NaN  \n",
      "...                    ...                ...             ...      ...  \n",
      "1254                    No         Don't know              No      NaN  \n",
      "1255                    No                Yes              No      NaN  \n",
      "1256                    No                 No              No      NaN  \n",
      "1257                    No                 No              No      NaN  \n",
      "1258                    No         Don't know              No      NaN  \n",
      "\n",
      "[1259 rows x 27 columns]\n"
     ]
    }
   ],
   "source": [
    "df['Age'] = df['Age'].apply(lambda x: x if 0 <= x <= 120 else pd.NA)\n",
    "print(df)"
   ]
  },
  {
   "cell_type": "code",
   "execution_count": 126,
   "metadata": {},
   "outputs": [
    {
     "name": "stdout",
     "output_type": "stream",
     "text": [
      "                Timestamp   Age  Gender         Country state self_employed  \\\n",
      "0     2014-08-27 11:29:31  37.0  Female   United States    IL           NaN   \n",
      "1     2014-08-27 11:29:37  44.0       M   United States    IN           NaN   \n",
      "2     2014-08-27 11:29:44  32.0    Male          Canada   NaN           NaN   \n",
      "3     2014-08-27 11:29:46  31.0    Male  United Kingdom   NaN           NaN   \n",
      "4     2014-08-27 11:30:22  31.0    Male   United States    TX           NaN   \n",
      "...                   ...   ...     ...             ...   ...           ...   \n",
      "1254  2015-09-12 11:17:21  26.0    male  United Kingdom   NaN            No   \n",
      "1255  2015-09-26 01:07:35  32.0    Male   United States    IL            No   \n",
      "1256  2015-11-07 12:36:58  34.0    male   United States    CA            No   \n",
      "1257  2015-11-30 21:25:06  46.0       f   United States    NC            No   \n",
      "1258  2016-02-01 23:04:31  25.0    Male   United States    IL            No   \n",
      "\n",
      "     family_history treatment work_interfere    no_employees  ...  \\\n",
      "0                No       Yes          Often            6-25  ...   \n",
      "1                No        No         Rarely  More than 1000  ...   \n",
      "2                No        No         Rarely            6-25  ...   \n",
      "3               Yes       Yes          Often          26-100  ...   \n",
      "4                No        No          Never         100-500  ...   \n",
      "...             ...       ...            ...             ...  ...   \n",
      "1254             No       Yes            NaN          26-100  ...   \n",
      "1255            Yes       Yes          Often          26-100  ...   \n",
      "1256            Yes       Yes      Sometimes  More than 1000  ...   \n",
      "1257             No        No            NaN         100-500  ...   \n",
      "1258            Yes       Yes      Sometimes          26-100  ...   \n",
      "\n",
      "                   leave mental_health_consequence phys_health_consequence  \\\n",
      "0          Somewhat easy                        No                      No   \n",
      "1             Don't know                     Maybe                      No   \n",
      "2     Somewhat difficult                        No                      No   \n",
      "3     Somewhat difficult                       Yes                     Yes   \n",
      "4             Don't know                        No                      No   \n",
      "...                  ...                       ...                     ...   \n",
      "1254       Somewhat easy                        No                      No   \n",
      "1255  Somewhat difficult                        No                      No   \n",
      "1256  Somewhat difficult                       Yes                     Yes   \n",
      "1257          Don't know                       Yes                      No   \n",
      "1258          Don't know                     Maybe                      No   \n",
      "\n",
      "         coworkers    supervisor mental_health_interview  \\\n",
      "0     Some of them           Yes                      No   \n",
      "1               No            No                      No   \n",
      "2              Yes           Yes                     Yes   \n",
      "3     Some of them            No                   Maybe   \n",
      "4     Some of them           Yes                     Yes   \n",
      "...            ...           ...                     ...   \n",
      "1254  Some of them  Some of them                      No   \n",
      "1255  Some of them           Yes                      No   \n",
      "1256            No            No                      No   \n",
      "1257            No            No                      No   \n",
      "1258  Some of them            No                      No   \n",
      "\n",
      "     phys_health_interview mental_vs_physical obs_consequence comments  \n",
      "0                    Maybe                Yes              No      NaN  \n",
      "1                       No         Don't know              No      NaN  \n",
      "2                      Yes                 No              No      NaN  \n",
      "3                    Maybe                 No             Yes      NaN  \n",
      "4                      Yes         Don't know              No      NaN  \n",
      "...                    ...                ...             ...      ...  \n",
      "1254                    No         Don't know              No      NaN  \n",
      "1255                    No                Yes              No      NaN  \n",
      "1256                    No                 No              No      NaN  \n",
      "1257                    No                 No              No      NaN  \n",
      "1258                    No         Don't know              No      NaN  \n",
      "\n",
      "[1259 rows x 27 columns]\n"
     ]
    }
   ],
   "source": [
    "df['Age'] = df['Age'].fillna(df['Age'].median())\n",
    "print(df)"
   ]
  },
  {
   "cell_type": "markdown",
   "metadata": {},
   "source": [
    "replacing any word that has 'male' in it in gender column with male same for female"
   ]
  },
  {
   "cell_type": "code",
   "execution_count": 127,
   "metadata": {},
   "outputs": [
    {
     "name": "stdout",
     "output_type": "stream",
     "text": [
      "['Female' 'M' 'Male' 'male' 'female' 'm' 'Male-ish' 'maile' 'Trans-female'\n",
      " 'Cis Female' 'F' 'something kinda male?' 'Cis Male' 'Woman' 'f' 'Mal'\n",
      " 'Male (CIS)' 'queer/she/they' 'non-binary' 'Femake' 'woman' 'Make' 'Nah'\n",
      " 'All' 'Enby' 'fluid' 'Genderqueer' 'Androgyne' 'Agender'\n",
      " 'cis-female/femme' 'Guy (-ish) ^_^' 'male leaning androgynous' 'Man'\n",
      " 'Trans woman' 'msle' 'Neuter' 'Female (trans)' 'queer' 'Female (cis)'\n",
      " 'Mail' 'cis male' 'A little about you' 'Malr' 'p' 'femail' 'Cis Man'\n",
      " 'ostensibly male, unsure what that really means']\n"
     ]
    }
   ],
   "source": [
    "df['Gender'] = df['Gender'].str.strip()\n",
    "distinctgender = df['Gender'].unique()\n",
    "print(distinctgender)"
   ]
  },
  {
   "cell_type": "code",
   "execution_count": 128,
   "metadata": {},
   "outputs": [
    {
     "name": "stdout",
     "output_type": "stream",
     "text": [
      "                Timestamp   Age  Gender         Country state self_employed  \\\n",
      "0     2014-08-27 11:29:31  37.0  Female   United States    IL           NaN   \n",
      "1     2014-08-27 11:29:37  44.0    Male   United States    IN           NaN   \n",
      "2     2014-08-27 11:29:44  32.0    Male          Canada   NaN           NaN   \n",
      "3     2014-08-27 11:29:46  31.0    Male  United Kingdom   NaN           NaN   \n",
      "4     2014-08-27 11:30:22  31.0    Male   United States    TX           NaN   \n",
      "...                   ...   ...     ...             ...   ...           ...   \n",
      "1254  2015-09-12 11:17:21  26.0    Male  United Kingdom   NaN            No   \n",
      "1255  2015-09-26 01:07:35  32.0    Male   United States    IL            No   \n",
      "1256  2015-11-07 12:36:58  34.0    Male   United States    CA            No   \n",
      "1257  2015-11-30 21:25:06  46.0  Female   United States    NC            No   \n",
      "1258  2016-02-01 23:04:31  25.0    Male   United States    IL            No   \n",
      "\n",
      "     family_history treatment work_interfere    no_employees  ...  \\\n",
      "0                No       Yes          Often            6-25  ...   \n",
      "1                No        No         Rarely  More than 1000  ...   \n",
      "2                No        No         Rarely            6-25  ...   \n",
      "3               Yes       Yes          Often          26-100  ...   \n",
      "4                No        No          Never         100-500  ...   \n",
      "...             ...       ...            ...             ...  ...   \n",
      "1254             No       Yes            NaN          26-100  ...   \n",
      "1255            Yes       Yes          Often          26-100  ...   \n",
      "1256            Yes       Yes      Sometimes  More than 1000  ...   \n",
      "1257             No        No            NaN         100-500  ...   \n",
      "1258            Yes       Yes      Sometimes          26-100  ...   \n",
      "\n",
      "                   leave mental_health_consequence phys_health_consequence  \\\n",
      "0          Somewhat easy                        No                      No   \n",
      "1             Don't know                     Maybe                      No   \n",
      "2     Somewhat difficult                        No                      No   \n",
      "3     Somewhat difficult                       Yes                     Yes   \n",
      "4             Don't know                        No                      No   \n",
      "...                  ...                       ...                     ...   \n",
      "1254       Somewhat easy                        No                      No   \n",
      "1255  Somewhat difficult                        No                      No   \n",
      "1256  Somewhat difficult                       Yes                     Yes   \n",
      "1257          Don't know                       Yes                      No   \n",
      "1258          Don't know                     Maybe                      No   \n",
      "\n",
      "         coworkers    supervisor mental_health_interview  \\\n",
      "0     Some of them           Yes                      No   \n",
      "1               No            No                      No   \n",
      "2              Yes           Yes                     Yes   \n",
      "3     Some of them            No                   Maybe   \n",
      "4     Some of them           Yes                     Yes   \n",
      "...            ...           ...                     ...   \n",
      "1254  Some of them  Some of them                      No   \n",
      "1255  Some of them           Yes                      No   \n",
      "1256            No            No                      No   \n",
      "1257            No            No                      No   \n",
      "1258  Some of them            No                      No   \n",
      "\n",
      "     phys_health_interview mental_vs_physical obs_consequence comments  \n",
      "0                    Maybe                Yes              No      NaN  \n",
      "1                       No         Don't know              No      NaN  \n",
      "2                      Yes                 No              No      NaN  \n",
      "3                    Maybe                 No             Yes      NaN  \n",
      "4                      Yes         Don't know              No      NaN  \n",
      "...                    ...                ...             ...      ...  \n",
      "1254                    No         Don't know              No      NaN  \n",
      "1255                    No                Yes              No      NaN  \n",
      "1256                    No                 No              No      NaN  \n",
      "1257                    No                 No              No      NaN  \n",
      "1258                    No         Don't know              No      NaN  \n",
      "\n",
      "[1259 rows x 27 columns]\n"
     ]
    }
   ],
   "source": [
    "Gender_map = {\n",
    "    'Female': 'Female', 'M': 'Male', 'Male': 'Male', 'male': 'Male', 'female': 'Female', 'm': 'Male', 'Male-ish': 'Male', 'maile': 'Male', 'Trans-female': 'Female', 'Cis Female': 'Female',\n",
    "    'F': 'Female', 'something kinda male?': 'Male', 'Cis Male': 'Male', 'Woman': 'Female', 'f': 'Female', 'Mal': 'Male', 'Male (CIS)': 'Male', 'queer/she/they': 'Other', 'non-binary': 'Other', 'Femake': 'Female', 'woman': 'Female', \n",
    "    'Make': 'Male', 'Nah': 'Other', 'All': 'Other', 'Enby': 'Other', 'fluid': 'Other', 'Genderqueer': 'Other', 'Androgyne': 'Other', 'Agender': 'Other', 'cis-female/femme': 'Female', 'Guy (-ish) ^_^': 'Male', 'male leaning androgynous': 'Male',\n",
    "    'Man': 'Male', 'Trans woman': 'Female', 'msle': 'Male', 'Neuter': 'Other', 'Female (trans)': 'Female', 'queer': 'Other', 'Female (cis)': 'Female', 'Mail': 'Male', 'cis male': 'Male', 'A little about you': 'Other', 'Malr': 'Male', 'p': 'Other',\n",
    "    'femail': 'Female', 'Cis Man': 'Male', 'ostensibly male, unsure what that really means': 'Other', 'Other': 'Other'\n",
    "}\n",
    "df['Gender'] = df['Gender'].map(Gender_map)\n",
    "print(df)"
   ]
  },
  {
   "cell_type": "code",
   "execution_count": 129,
   "metadata": {},
   "outputs": [
    {
     "name": "stdout",
     "output_type": "stream",
     "text": [
      "Empty DataFrame\n",
      "Columns: [Timestamp, Age, Gender, Country, state, self_employed, family_history, treatment, work_interfere, no_employees, remote_work, tech_company, benefits, care_options, wellness_program, seek_help, anonymity, leave, mental_health_consequence, phys_health_consequence, coworkers, supervisor, mental_health_interview, phys_health_interview, mental_vs_physical, obs_consequence, comments]\n",
      "Index: []\n",
      "\n",
      "[0 rows x 27 columns]\n"
     ]
    }
   ],
   "source": [
    "print(df[df['Gender'].isna()])"
   ]
  },
  {
   "cell_type": "markdown",
   "metadata": {},
   "source": [
    "renaming Bahama, The to The Bahamas"
   ]
  },
  {
   "cell_type": "code",
   "execution_count": 130,
   "metadata": {},
   "outputs": [
    {
     "name": "stdout",
     "output_type": "stream",
     "text": [
      "['United States' 'Canada' 'United Kingdom' 'Bulgaria' 'France' 'Portugal'\n",
      " 'Netherlands' 'Switzerland' 'Poland' 'Australia' 'Germany' 'Russia'\n",
      " 'Mexico' 'Brazil' 'Slovenia' 'Costa Rica' 'Austria' 'Ireland' 'India'\n",
      " 'South Africa' 'Italy' 'Sweden' 'Colombia' 'Latvia' 'Romania' 'Belgium'\n",
      " 'New Zealand' 'Zimbabwe' 'Spain' 'Finland' 'Uruguay' 'Israel'\n",
      " 'Bosnia and Herzegovina' 'Hungary' 'Singapore' 'Japan' 'Nigeria'\n",
      " 'Croatia' 'Norway' 'Thailand' 'Denmark' 'Bahamas, The' 'Greece' 'Moldova'\n",
      " 'Georgia' 'China' 'Czech Republic' 'Philippines']\n"
     ]
    }
   ],
   "source": [
    "distinct_country = df['Country'].unique()\n",
    "print(distinct_country)"
   ]
  },
  {
   "cell_type": "code",
   "execution_count": 131,
   "metadata": {},
   "outputs": [
    {
     "name": "stdout",
     "output_type": "stream",
     "text": [
      "                Timestamp   Age  Gender         Country state self_employed  \\\n",
      "0     2014-08-27 11:29:31  37.0  Female   United States    IL           NaN   \n",
      "1     2014-08-27 11:29:37  44.0    Male   United States    IN           NaN   \n",
      "2     2014-08-27 11:29:44  32.0    Male          Canada   NaN           NaN   \n",
      "3     2014-08-27 11:29:46  31.0    Male  United Kingdom   NaN           NaN   \n",
      "4     2014-08-27 11:30:22  31.0    Male   United States    TX           NaN   \n",
      "...                   ...   ...     ...             ...   ...           ...   \n",
      "1254  2015-09-12 11:17:21  26.0    Male  United Kingdom   NaN            No   \n",
      "1255  2015-09-26 01:07:35  32.0    Male   United States    IL            No   \n",
      "1256  2015-11-07 12:36:58  34.0    Male   United States    CA            No   \n",
      "1257  2015-11-30 21:25:06  46.0  Female   United States    NC            No   \n",
      "1258  2016-02-01 23:04:31  25.0    Male   United States    IL            No   \n",
      "\n",
      "     family_history treatment work_interfere    no_employees  ...  \\\n",
      "0                No       Yes          Often            6-25  ...   \n",
      "1                No        No         Rarely  More than 1000  ...   \n",
      "2                No        No         Rarely            6-25  ...   \n",
      "3               Yes       Yes          Often          26-100  ...   \n",
      "4                No        No          Never         100-500  ...   \n",
      "...             ...       ...            ...             ...  ...   \n",
      "1254             No       Yes            NaN          26-100  ...   \n",
      "1255            Yes       Yes          Often          26-100  ...   \n",
      "1256            Yes       Yes      Sometimes  More than 1000  ...   \n",
      "1257             No        No            NaN         100-500  ...   \n",
      "1258            Yes       Yes      Sometimes          26-100  ...   \n",
      "\n",
      "                   leave mental_health_consequence phys_health_consequence  \\\n",
      "0          Somewhat easy                        No                      No   \n",
      "1             Don't know                     Maybe                      No   \n",
      "2     Somewhat difficult                        No                      No   \n",
      "3     Somewhat difficult                       Yes                     Yes   \n",
      "4             Don't know                        No                      No   \n",
      "...                  ...                       ...                     ...   \n",
      "1254       Somewhat easy                        No                      No   \n",
      "1255  Somewhat difficult                        No                      No   \n",
      "1256  Somewhat difficult                       Yes                     Yes   \n",
      "1257          Don't know                       Yes                      No   \n",
      "1258          Don't know                     Maybe                      No   \n",
      "\n",
      "         coworkers    supervisor mental_health_interview  \\\n",
      "0     Some of them           Yes                      No   \n",
      "1               No            No                      No   \n",
      "2              Yes           Yes                     Yes   \n",
      "3     Some of them            No                   Maybe   \n",
      "4     Some of them           Yes                     Yes   \n",
      "...            ...           ...                     ...   \n",
      "1254  Some of them  Some of them                      No   \n",
      "1255  Some of them           Yes                      No   \n",
      "1256            No            No                      No   \n",
      "1257            No            No                      No   \n",
      "1258  Some of them            No                      No   \n",
      "\n",
      "     phys_health_interview mental_vs_physical obs_consequence comments  \n",
      "0                    Maybe                Yes              No      NaN  \n",
      "1                       No         Don't know              No      NaN  \n",
      "2                      Yes                 No              No      NaN  \n",
      "3                    Maybe                 No             Yes      NaN  \n",
      "4                      Yes         Don't know              No      NaN  \n",
      "...                    ...                ...             ...      ...  \n",
      "1254                    No         Don't know              No      NaN  \n",
      "1255                    No                Yes              No      NaN  \n",
      "1256                    No                 No              No      NaN  \n",
      "1257                    No                 No              No      NaN  \n",
      "1258                    No         Don't know              No      NaN  \n",
      "\n",
      "[1259 rows x 27 columns]\n"
     ]
    }
   ],
   "source": [
    "df['Country'] = df['Country'].str.strip()\n",
    "df['Country'] = df['Country'].replace('Bahamas, The', 'The Bahamas')\n",
    "print(df)"
   ]
  },
  {
   "cell_type": "code",
   "execution_count": 132,
   "metadata": {},
   "outputs": [
    {
     "name": "stdout",
     "output_type": "stream",
     "text": [
      "['IL' 'IN' nan 'TX' 'TN' 'MI' 'OH' 'CA' 'CT' 'MD' 'NY' 'NC' 'MA' 'IA' 'PA'\n",
      " 'WA' 'WI' 'UT' 'NM' 'OR' 'FL' 'MN' 'MO' 'AZ' 'CO' 'GA' 'DC' 'NE' 'WV'\n",
      " 'OK' 'KS' 'VA' 'NH' 'KY' 'AL' 'NV' 'NJ' 'SC' 'VT' 'SD' 'ID' 'MS' 'RI'\n",
      " 'WY' 'LA' 'ME']\n"
     ]
    }
   ],
   "source": [
    "distinct = df['state'].unique()\n",
    "print(distinct)"
   ]
  },
  {
   "cell_type": "markdown",
   "metadata": {},
   "source": [
    "replacing nan in state if country in another value has the actual state value"
   ]
  },
  {
   "cell_type": "code",
   "execution_count": null,
   "metadata": {},
   "outputs": [],
   "source": []
  }
 ],
 "metadata": {
  "kernelspec": {
   "display_name": "base",
   "language": "python",
   "name": "python3"
  },
  "language_info": {
   "codemirror_mode": {
    "name": "ipython",
    "version": 3
   },
   "file_extension": ".py",
   "mimetype": "text/x-python",
   "name": "python",
   "nbconvert_exporter": "python",
   "pygments_lexer": "ipython3",
   "version": "3.9.13"
  }
 },
 "nbformat": 4,
 "nbformat_minor": 2
}
